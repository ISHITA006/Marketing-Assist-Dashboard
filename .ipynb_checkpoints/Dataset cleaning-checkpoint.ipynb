{
 "cells": [
  {
   "cell_type": "code",
   "execution_count": 1,
   "metadata": {},
   "outputs": [],
   "source": [
    "import pandas as pd"
   ]
  },
  {
   "cell_type": "code",
   "execution_count": 2,
   "metadata": {},
   "outputs": [],
   "source": [
    "file_path = './Flipkart_Reviews_Dataset.csv'\n",
    "df = pd.read_csv(file_path)"
   ]
  },
  {
   "cell_type": "code",
   "execution_count": 3,
   "metadata": {},
   "outputs": [],
   "source": [
    "df = df[['product_name', 'product_price','Review','Summary']]"
   ]
  },
  {
   "cell_type": "code",
   "execution_count": 4,
   "metadata": {},
   "outputs": [],
   "source": [
    "# remove '?????' in product names\n",
    "names = df['product_name']\n",
    "for i in range(len(names)):\n",
    "    name = names[i]\n",
    "    if '??????' in name:\n",
    "        new_name = name.replace(\"??????\", \" \")\n",
    "        names[i] = new_name\n",
    "df['product_name'] = names"
   ]
  },
  {
   "cell_type": "code",
   "execution_count": 5,
   "metadata": {},
   "outputs": [],
   "source": [
    "df = df.dropna(subset=['Summary', 'Review'])"
   ]
  },
  {
   "cell_type": "code",
   "execution_count": 6,
   "metadata": {},
   "outputs": [
    {
     "data": {
      "text/html": [
       "<div>\n",
       "<style scoped>\n",
       "    .dataframe tbody tr th:only-of-type {\n",
       "        vertical-align: middle;\n",
       "    }\n",
       "\n",
       "    .dataframe tbody tr th {\n",
       "        vertical-align: top;\n",
       "    }\n",
       "\n",
       "    .dataframe thead th {\n",
       "        text-align: right;\n",
       "    }\n",
       "</style>\n",
       "<table border=\"1\" class=\"dataframe\">\n",
       "  <thead>\n",
       "    <tr style=\"text-align: right;\">\n",
       "      <th></th>\n",
       "      <th>product_name</th>\n",
       "      <th>product_price</th>\n",
       "      <th>Feedback</th>\n",
       "    </tr>\n",
       "  </thead>\n",
       "  <tbody>\n",
       "    <tr>\n",
       "      <th>0</th>\n",
       "      <td>Candes 12 L Room/Personal Air Cooler (White, B...</td>\n",
       "      <td>3999</td>\n",
       "      <td>super! - great cooler excellent air flow and f...</td>\n",
       "    </tr>\n",
       "    <tr>\n",
       "      <th>1</th>\n",
       "      <td>Candes 12 L Room/Personal Air Cooler (White, B...</td>\n",
       "      <td>3999</td>\n",
       "      <td>awesome - best budget 2 fit cooler nice cooling</td>\n",
       "    </tr>\n",
       "    <tr>\n",
       "      <th>2</th>\n",
       "      <td>Candes 12 L Room/Personal Air Cooler (White, B...</td>\n",
       "      <td>3999</td>\n",
       "      <td>fair - the quality is good but the power of ai...</td>\n",
       "    </tr>\n",
       "    <tr>\n",
       "      <th>3</th>\n",
       "      <td>Candes 12 L Room/Personal Air Cooler (White, B...</td>\n",
       "      <td>3999</td>\n",
       "      <td>useless product - very bad product its a only ...</td>\n",
       "    </tr>\n",
       "    <tr>\n",
       "      <th>4</th>\n",
       "      <td>Candes 12 L Room/Personal Air Cooler (White, B...</td>\n",
       "      <td>3999</td>\n",
       "      <td>fair - ok ok product</td>\n",
       "    </tr>\n",
       "  </tbody>\n",
       "</table>\n",
       "</div>"
      ],
      "text/plain": [
       "                                        product_name product_price  \\\n",
       "0  Candes 12 L Room/Personal Air Cooler (White, B...          3999   \n",
       "1  Candes 12 L Room/Personal Air Cooler (White, B...          3999   \n",
       "2  Candes 12 L Room/Personal Air Cooler (White, B...          3999   \n",
       "3  Candes 12 L Room/Personal Air Cooler (White, B...          3999   \n",
       "4  Candes 12 L Room/Personal Air Cooler (White, B...          3999   \n",
       "\n",
       "                                            Feedback  \n",
       "0  super! - great cooler excellent air flow and f...  \n",
       "1    awesome - best budget 2 fit cooler nice cooling  \n",
       "2  fair - the quality is good but the power of ai...  \n",
       "3  useless product - very bad product its a only ...  \n",
       "4                               fair - ok ok product  "
      ]
     },
     "execution_count": 6,
     "metadata": {},
     "output_type": "execute_result"
    }
   ],
   "source": [
    "df['Feedback'] = df['Review']+\" - \"+df['Summary']\n",
    "df = df[['product_name', 'product_price', 'Feedback']]\n",
    "df.head()"
   ]
  },
  {
   "cell_type": "code",
   "execution_count": 17,
   "metadata": {},
   "outputs": [],
   "source": [
    "reviews_dict = {}"
   ]
  },
  {
   "cell_type": "code",
   "execution_count": 18,
   "metadata": {},
   "outputs": [],
   "source": [
    "unique_prods = list(set(df['product_name']))"
   ]
  },
  {
   "cell_type": "code",
   "execution_count": 19,
   "metadata": {},
   "outputs": [],
   "source": [
    "count=1\n",
    "for prod in unique_prods:\n",
    "    df_filtered = df[df['product_name']==prod]\n",
    "    reviews = list(df_filtered['Feedback'])\n",
    "    price = list(df_filtered['product_price'])[0]\n",
    "    reviews_dict[prod] = {\"id\": count, \"price\": price, \"reviews\": reviews}\n",
    "    count +=1"
   ]
  },
  {
   "cell_type": "code",
   "execution_count": 20,
   "metadata": {},
   "outputs": [],
   "source": [
    "import json"
   ]
  },
  {
   "cell_type": "code",
   "execution_count": 21,
   "metadata": {},
   "outputs": [],
   "source": [
    "with open(\"reviews_clean.json\", \"w\") as outfile:\n",
    "    json.dump(reviews_dict, outfile)"
   ]
  },
  {
   "cell_type": "code",
   "execution_count": null,
   "metadata": {},
   "outputs": [],
   "source": []
  }
 ],
 "metadata": {
  "kernelspec": {
   "display_name": "Python 3",
   "language": "python",
   "name": "python3"
  },
  "language_info": {
   "codemirror_mode": {
    "name": "ipython",
    "version": 3
   },
   "file_extension": ".py",
   "mimetype": "text/x-python",
   "name": "python",
   "nbconvert_exporter": "python",
   "pygments_lexer": "ipython3",
   "version": "3.8.5"
  }
 },
 "nbformat": 4,
 "nbformat_minor": 4
}
